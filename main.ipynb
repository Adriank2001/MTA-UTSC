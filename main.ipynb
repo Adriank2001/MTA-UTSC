{
 "cells": [
  {
   "cell_type": "markdown",
   "metadata": {},
   "source": [
    "# Question 1"
   ]
  },
  {
   "cell_type": "markdown",
   "metadata": {},
   "source": [
    "**Prompt**\n",
    "\n",
    "*“Defenders often need to be physically strong in order to compete and progress in the world cup”. Investigate the validity of this claim using the world cup data provided.*\n",
    "\n"
   ]
  },
  {
   "cell_type": "code",
   "execution_count": 1,
   "metadata": {},
   "outputs": [],
   "source": [
    "import seaborn as sns\n",
    "import matplotlib.pyplot as plt\n",
    "import worldcup as wc"
   ]
  },
  {
   "cell_type": "markdown",
   "metadata": {},
   "source": [
    "## Data Collection"
   ]
  },
  {
   "cell_type": "code",
   "execution_count": 2,
   "metadata": {},
   "outputs": [],
   "source": [
    "import pandas as pd\n",
    "from bs4 import BeautifulSoup\n",
    "import requests"
   ]
  },
  {
   "cell_type": "code",
   "execution_count": 3,
   "metadata": {},
   "outputs": [],
   "source": [
    "web = f'https://en.wikipedia.org/wiki/National_team_appearances_in_the_FIFA_World_Cup'\n",
    "response = requests.get(web)\n",
    "content = response.text\n",
    "soup = BeautifulSoup(content, 'lxml')\n",
    "table = soup.find('table')"
   ]
  },
  {
   "cell_type": "code",
   "execution_count": 14,
   "metadata": {},
   "outputs": [],
   "source": [
    "df_teams = pd.DataFrame(pd.read_html(str(table))[0])\n",
    "teams = df_teams[df_teams['Debut'] != 2022]['Team']"
   ]
  },
  {
   "cell_type": "code",
   "execution_count": 16,
   "metadata": {},
   "outputs": [
    {
     "data": {
      "text/plain": [
       "78"
      ]
     },
     "execution_count": 16,
     "metadata": {},
     "output_type": "execute_result"
    }
   ],
   "source": [
    "teams.nunique()"
   ]
  },
  {
   "cell_type": "code",
   "execution_count": 18,
   "metadata": {},
   "outputs": [
    {
     "data": {
      "text/plain": [
       "array(['Brazil', 'Germany', 'Argentina', 'Italy', 'Mexico', 'Spain',\n",
       "       'France', 'England', 'Belgium', 'Uruguay', 'Serbia', 'Switzerland',\n",
       "       'Sweden', 'South Korea', 'United States', 'Netherlands', 'Russia',\n",
       "       'Poland', 'Hungary', 'Czech Republic', 'Chile', 'Portugal',\n",
       "       'Cameroon', 'Scotland', 'Paraguay', 'Japan', 'Bulgaria', 'Romania',\n",
       "       'Austria', 'Australia', 'Iran', 'Costa Rica', 'Croatia',\n",
       "       'Saudi Arabia', 'Tunisia', 'Morocco', 'Denmark', 'Colombia',\n",
       "       'Nigeria', 'Peru', 'Ghana', 'Ecuador', 'Algeria', 'Senegal',\n",
       "       'Ivory Coast', 'Norway', 'Northern Ireland', 'Honduras',\n",
       "       'Republic of Ireland', 'Greece', 'South Africa', 'Bolivia',\n",
       "       'Egypt', 'Wales', 'Canada', 'Turkey', 'North Korea', 'El Salvador',\n",
       "       'New Zealand', 'Slovenia', 'Cuba', 'Indonesia', 'Israel',\n",
       "       'DR Congo', 'Haiti', 'Kuwait', 'Iraq', 'United Arab Emirates',\n",
       "       'Jamaica', 'China', 'Angola', 'Togo', 'Trinidad and Tobago',\n",
       "       'Ukraine', 'Slovakia', 'Bosnia and Herzegovina', 'Iceland',\n",
       "       'Panama'], dtype=object)"
      ]
     },
     "execution_count": 18,
     "metadata": {},
     "output_type": "execute_result"
    }
   ],
   "source": [
    "teams.unique()"
   ]
  },
  {
   "cell_type": "code",
   "execution_count": null,
   "metadata": {},
   "outputs": [],
   "source": []
  }
 ],
 "metadata": {
  "kernelspec": {
   "display_name": "Python 3.9.12 ('base')",
   "language": "python",
   "name": "python3"
  },
  "language_info": {
   "codemirror_mode": {
    "name": "ipython",
    "version": 3
   },
   "file_extension": ".py",
   "mimetype": "text/x-python",
   "name": "python",
   "nbconvert_exporter": "python",
   "pygments_lexer": "ipython3",
   "version": "3.9.12"
  },
  "orig_nbformat": 4,
  "vscode": {
   "interpreter": {
    "hash": "e0f7444518708b5f663c6f01fe78581cb769eb8dddebe88cfd33d8560c6e2ae8"
   }
  }
 },
 "nbformat": 4,
 "nbformat_minor": 2
}
