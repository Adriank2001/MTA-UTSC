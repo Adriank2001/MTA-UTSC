{
 "cells": [
  {
   "cell_type": "markdown",
   "metadata": {},
   "source": [
    "# Playerdata import"
   ]
  },
  {
   "cell_type": "code",
   "execution_count": 2,
   "metadata": {},
   "outputs": [],
   "source": [
    "import pandas as pd"
   ]
  },
  {
   "cell_type": "code",
   "execution_count": 13,
   "metadata": {},
   "outputs": [],
   "source": [
    "df_fifa = pd.read_csv(\"RawData/fifadata.csv\")"
   ]
  },
  {
   "cell_type": "code",
   "execution_count": 7,
   "metadata": {},
   "outputs": [
    {
     "data": {
      "text/plain": [
       "array(['GK', 'DF', 'MF', 'FW'], dtype=object)"
      ]
     },
     "execution_count": 7,
     "metadata": {},
     "output_type": "execute_result"
    }
   ],
   "source": [
    "df_fifa.Position.unique()"
   ]
  },
  {
   "cell_type": "code",
   "execution_count": 8,
   "metadata": {},
   "outputs": [],
   "source": [
    "# to Only Select defenders\n",
    "df_fifa = df_fifa[df_fifa['Position'] == \"DF\"]\n",
    "df_fifa['Date Of Birth'] = pd.to_datetime(df_fifa['Date Of Birth'])"
   ]
  },
  {
   "cell_type": "code",
   "execution_count": 10,
   "metadata": {},
   "outputs": [
    {
     "data": {
      "text/html": [
       "<div>\n",
       "<style scoped>\n",
       "    .dataframe tbody tr th:only-of-type {\n",
       "        vertical-align: middle;\n",
       "    }\n",
       "\n",
       "    .dataframe tbody tr th {\n",
       "        vertical-align: top;\n",
       "    }\n",
       "\n",
       "    .dataframe thead th {\n",
       "        text-align: right;\n",
       "    }\n",
       "</style>\n",
       "<table border=\"1\" class=\"dataframe\">\n",
       "  <thead>\n",
       "    <tr style=\"text-align: right;\">\n",
       "      <th></th>\n",
       "      <th>Team</th>\n",
       "      <th>Group</th>\n",
       "      <th>Squad Number</th>\n",
       "      <th>Position</th>\n",
       "      <th>Player</th>\n",
       "      <th>Date Of Birth</th>\n",
       "      <th>Age</th>\n",
       "      <th>Caps</th>\n",
       "      <th>Goals</th>\n",
       "      <th>Club</th>\n",
       "      <th>Player Count</th>\n",
       "    </tr>\n",
       "  </thead>\n",
       "  <tbody>\n",
       "    <tr>\n",
       "      <th>1</th>\n",
       "      <td>Egypt</td>\n",
       "      <td>A</td>\n",
       "      <td>2</td>\n",
       "      <td>DF</td>\n",
       "      <td>Ali Gabr</td>\n",
       "      <td>1989-01-01</td>\n",
       "      <td>29</td>\n",
       "      <td>20</td>\n",
       "      <td>1</td>\n",
       "      <td>West Bromwich Albion</td>\n",
       "      <td>1</td>\n",
       "    </tr>\n",
       "    <tr>\n",
       "      <th>2</th>\n",
       "      <td>Egypt</td>\n",
       "      <td>A</td>\n",
       "      <td>3</td>\n",
       "      <td>DF</td>\n",
       "      <td>Ahmed Elmohamady</td>\n",
       "      <td>1987-09-09</td>\n",
       "      <td>30</td>\n",
       "      <td>77</td>\n",
       "      <td>2</td>\n",
       "      <td>Aston Villa</td>\n",
       "      <td>1</td>\n",
       "    </tr>\n",
       "  </tbody>\n",
       "</table>\n",
       "</div>"
      ],
      "text/plain": [
       "    Team Group  Squad Number Position            Player Date Of Birth  Age  \\\n",
       "1  Egypt     A             2       DF          Ali Gabr    1989-01-01   29   \n",
       "2  Egypt     A             3       DF  Ahmed Elmohamady    1987-09-09   30   \n",
       "\n",
       "   Caps  Goals                  Club  Player Count  \n",
       "1    20      1  West Bromwich Albion             1  \n",
       "2    77      2           Aston Villa             1  "
      ]
     },
     "execution_count": 10,
     "metadata": {},
     "output_type": "execute_result"
    }
   ],
   "source": [
    "df_fifa.head(2)"
   ]
  },
  {
   "cell_type": "code",
   "execution_count": 11,
   "metadata": {},
   "outputs": [
    {
     "name": "stdout",
     "output_type": "stream",
     "text": [
      "<class 'pandas.core.frame.DataFrame'>\n",
      "Int64Index: 248 entries, 1 to 734\n",
      "Data columns (total 11 columns):\n",
      " #   Column         Non-Null Count  Dtype         \n",
      "---  ------         --------------  -----         \n",
      " 0   Team           248 non-null    object        \n",
      " 1   Group          248 non-null    object        \n",
      " 2   Squad Number   248 non-null    int64         \n",
      " 3   Position       248 non-null    object        \n",
      " 4   Player         248 non-null    object        \n",
      " 5   Date Of Birth  248 non-null    datetime64[ns]\n",
      " 6   Age            248 non-null    int64         \n",
      " 7   Caps           248 non-null    int64         \n",
      " 8   Goals          248 non-null    int64         \n",
      " 9   Club           248 non-null    object        \n",
      " 10  Player Count   248 non-null    int64         \n",
      "dtypes: datetime64[ns](1), int64(5), object(5)\n",
      "memory usage: 23.2+ KB\n"
     ]
    }
   ],
   "source": [
    "df_fifa.info()"
   ]
  },
  {
   "cell_type": "code",
   "execution_count": 14,
   "metadata": {},
   "outputs": [],
   "source": [
    "df_fifa = df_fifa.iloc[:, :-1]"
   ]
  },
  {
   "cell_type": "code",
   "execution_count": 15,
   "metadata": {},
   "outputs": [
    {
     "data": {
      "text/html": [
       "<div>\n",
       "<style scoped>\n",
       "    .dataframe tbody tr th:only-of-type {\n",
       "        vertical-align: middle;\n",
       "    }\n",
       "\n",
       "    .dataframe tbody tr th {\n",
       "        vertical-align: top;\n",
       "    }\n",
       "\n",
       "    .dataframe thead th {\n",
       "        text-align: right;\n",
       "    }\n",
       "</style>\n",
       "<table border=\"1\" class=\"dataframe\">\n",
       "  <thead>\n",
       "    <tr style=\"text-align: right;\">\n",
       "      <th></th>\n",
       "      <th>Team</th>\n",
       "      <th>Group</th>\n",
       "      <th>Squad Number</th>\n",
       "      <th>Position</th>\n",
       "      <th>Player</th>\n",
       "      <th>Date Of Birth</th>\n",
       "      <th>Age</th>\n",
       "      <th>Caps</th>\n",
       "      <th>Goals</th>\n",
       "      <th>Club</th>\n",
       "    </tr>\n",
       "  </thead>\n",
       "  <tbody>\n",
       "    <tr>\n",
       "      <th>0</th>\n",
       "      <td>Egypt</td>\n",
       "      <td>A</td>\n",
       "      <td>1</td>\n",
       "      <td>GK</td>\n",
       "      <td>Essam El-Hadary (captain)</td>\n",
       "      <td>1973/01/15</td>\n",
       "      <td>45</td>\n",
       "      <td>157</td>\n",
       "      <td>0</td>\n",
       "      <td>Al-Taawoun</td>\n",
       "    </tr>\n",
       "    <tr>\n",
       "      <th>1</th>\n",
       "      <td>Egypt</td>\n",
       "      <td>A</td>\n",
       "      <td>2</td>\n",
       "      <td>DF</td>\n",
       "      <td>Ali Gabr</td>\n",
       "      <td>1989/01/01</td>\n",
       "      <td>29</td>\n",
       "      <td>20</td>\n",
       "      <td>1</td>\n",
       "      <td>West Bromwich Albion</td>\n",
       "    </tr>\n",
       "    <tr>\n",
       "      <th>2</th>\n",
       "      <td>Egypt</td>\n",
       "      <td>A</td>\n",
       "      <td>3</td>\n",
       "      <td>DF</td>\n",
       "      <td>Ahmed Elmohamady</td>\n",
       "      <td>1987/09/09</td>\n",
       "      <td>30</td>\n",
       "      <td>77</td>\n",
       "      <td>2</td>\n",
       "      <td>Aston Villa</td>\n",
       "    </tr>\n",
       "    <tr>\n",
       "      <th>3</th>\n",
       "      <td>Egypt</td>\n",
       "      <td>A</td>\n",
       "      <td>4</td>\n",
       "      <td>MF</td>\n",
       "      <td>Omar Gaber</td>\n",
       "      <td>1992/01/30</td>\n",
       "      <td>26</td>\n",
       "      <td>23</td>\n",
       "      <td>0</td>\n",
       "      <td>Los Angeles FC</td>\n",
       "    </tr>\n",
       "    <tr>\n",
       "      <th>4</th>\n",
       "      <td>Egypt</td>\n",
       "      <td>A</td>\n",
       "      <td>5</td>\n",
       "      <td>MF</td>\n",
       "      <td>Sam Morsy</td>\n",
       "      <td>1991/09/10</td>\n",
       "      <td>26</td>\n",
       "      <td>4</td>\n",
       "      <td>0</td>\n",
       "      <td>Wigan Athletic</td>\n",
       "    </tr>\n",
       "    <tr>\n",
       "      <th>...</th>\n",
       "      <td>...</td>\n",
       "      <td>...</td>\n",
       "      <td>...</td>\n",
       "      <td>...</td>\n",
       "      <td>...</td>\n",
       "      <td>...</td>\n",
       "      <td>...</td>\n",
       "      <td>...</td>\n",
       "      <td>...</td>\n",
       "      <td>...</td>\n",
       "    </tr>\n",
       "    <tr>\n",
       "      <th>731</th>\n",
       "      <td>Senegal</td>\n",
       "      <td>H</td>\n",
       "      <td>19</td>\n",
       "      <td>FW</td>\n",
       "      <td>M'Baye Niang</td>\n",
       "      <td>1994/12/19</td>\n",
       "      <td>23</td>\n",
       "      <td>5</td>\n",
       "      <td>0</td>\n",
       "      <td>Torino</td>\n",
       "    </tr>\n",
       "    <tr>\n",
       "      <th>732</th>\n",
       "      <td>Senegal</td>\n",
       "      <td>H</td>\n",
       "      <td>20</td>\n",
       "      <td>FW</td>\n",
       "      <td>Keita Baldé</td>\n",
       "      <td>1995/03/08</td>\n",
       "      <td>23</td>\n",
       "      <td>17</td>\n",
       "      <td>3</td>\n",
       "      <td>Monaco</td>\n",
       "    </tr>\n",
       "    <tr>\n",
       "      <th>733</th>\n",
       "      <td>Senegal</td>\n",
       "      <td>H</td>\n",
       "      <td>21</td>\n",
       "      <td>DF</td>\n",
       "      <td>Lamine Gassama</td>\n",
       "      <td>1989/10/20</td>\n",
       "      <td>28</td>\n",
       "      <td>35</td>\n",
       "      <td>0</td>\n",
       "      <td>Alanyaspor</td>\n",
       "    </tr>\n",
       "    <tr>\n",
       "      <th>734</th>\n",
       "      <td>Senegal</td>\n",
       "      <td>H</td>\n",
       "      <td>22</td>\n",
       "      <td>DF</td>\n",
       "      <td>Moussa Wagué</td>\n",
       "      <td>1998/10/04</td>\n",
       "      <td>19</td>\n",
       "      <td>9</td>\n",
       "      <td>0</td>\n",
       "      <td>Eupen</td>\n",
       "    </tr>\n",
       "    <tr>\n",
       "      <th>735</th>\n",
       "      <td>Senegal</td>\n",
       "      <td>H</td>\n",
       "      <td>23</td>\n",
       "      <td>GK</td>\n",
       "      <td>Alfred Gomis</td>\n",
       "      <td>1993/09/05</td>\n",
       "      <td>24</td>\n",
       "      <td>1</td>\n",
       "      <td>0</td>\n",
       "      <td>SPAL</td>\n",
       "    </tr>\n",
       "  </tbody>\n",
       "</table>\n",
       "<p>736 rows × 10 columns</p>\n",
       "</div>"
      ],
      "text/plain": [
       "        Team Group  Squad Number Position                     Player  \\\n",
       "0      Egypt     A             1       GK  Essam El-Hadary (captain)   \n",
       "1      Egypt     A             2       DF                   Ali Gabr   \n",
       "2      Egypt     A             3       DF           Ahmed Elmohamady   \n",
       "3      Egypt     A             4       MF                 Omar Gaber   \n",
       "4      Egypt     A             5       MF                  Sam Morsy   \n",
       "..       ...   ...           ...      ...                        ...   \n",
       "731  Senegal     H            19       FW               M'Baye Niang   \n",
       "732  Senegal     H            20       FW                Keita Baldé   \n",
       "733  Senegal     H            21       DF             Lamine Gassama   \n",
       "734  Senegal     H            22       DF               Moussa Wagué   \n",
       "735  Senegal     H            23       GK               Alfred Gomis   \n",
       "\n",
       "    Date Of Birth  Age  Caps  Goals                  Club  \n",
       "0      1973/01/15   45   157      0            Al-Taawoun  \n",
       "1      1989/01/01   29    20      1  West Bromwich Albion  \n",
       "2      1987/09/09   30    77      2           Aston Villa  \n",
       "3      1992/01/30   26    23      0        Los Angeles FC  \n",
       "4      1991/09/10   26     4      0        Wigan Athletic  \n",
       "..            ...  ...   ...    ...                   ...  \n",
       "731    1994/12/19   23     5      0                Torino  \n",
       "732    1995/03/08   23    17      3                Monaco  \n",
       "733    1989/10/20   28    35      0            Alanyaspor  \n",
       "734    1998/10/04   19     9      0                 Eupen  \n",
       "735    1993/09/05   24     1      0                  SPAL  \n",
       "\n",
       "[736 rows x 10 columns]"
      ]
     },
     "execution_count": 15,
     "metadata": {},
     "output_type": "execute_result"
    }
   ],
   "source": [
    "df_fifa"
   ]
  },
  {
   "cell_type": "code",
   "execution_count": 21,
   "metadata": {},
   "outputs": [],
   "source": [
    "df_fifa.to_csv(\"Data/playerdata.csv\")"
   ]
  }
 ],
 "metadata": {
  "kernelspec": {
   "display_name": "Python 3.9.12 ('base')",
   "language": "python",
   "name": "python3"
  },
  "language_info": {
   "codemirror_mode": {
    "name": "ipython",
    "version": 3
   },
   "file_extension": ".py",
   "mimetype": "text/x-python",
   "name": "python",
   "nbconvert_exporter": "python",
   "pygments_lexer": "ipython3",
   "version": "3.9.12"
  },
  "orig_nbformat": 4,
  "vscode": {
   "interpreter": {
    "hash": "e0f7444518708b5f663c6f01fe78581cb769eb8dddebe88cfd33d8560c6e2ae8"
   }
  }
 },
 "nbformat": 4,
 "nbformat_minor": 2
}
