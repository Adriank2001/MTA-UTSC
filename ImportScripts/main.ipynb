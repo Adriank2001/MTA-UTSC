{
 "cells": [
  {
   "cell_type": "markdown",
   "metadata": {},
   "source": [
    "# Creating the Main Dataset"
   ]
  },
  {
   "cell_type": "code",
   "execution_count": 16,
   "metadata": {},
   "outputs": [],
   "source": [
    "import pandas as pd\n",
    "import seaborn as sns\n",
    "import matplotlib.pyplot as plt"
   ]
  },
  {
   "cell_type": "code",
   "execution_count": 17,
   "metadata": {},
   "outputs": [],
   "source": [
    "df_players = pd.read_csv(\"Data/playerdata.csv\", index_col=0)\n",
    "df_attributes = pd.read_csv(\"Data/playerattributes.csv\", index_col=0)"
   ]
  },
  {
   "cell_type": "code",
   "execution_count": 18,
   "metadata": {},
   "outputs": [],
   "source": [
    "df_players['Date Of Birth'] = pd.to_datetime(df_players['Date Of Birth'])\n",
    "df_attributes['dob'] = pd.to_datetime(df_attributes['dob'])"
   ]
  },
  {
   "cell_type": "code",
   "execution_count": 19,
   "metadata": {},
   "outputs": [
    {
     "data": {
      "text/html": [
       "<div>\n",
       "<style scoped>\n",
       "    .dataframe tbody tr th:only-of-type {\n",
       "        vertical-align: middle;\n",
       "    }\n",
       "\n",
       "    .dataframe tbody tr th {\n",
       "        vertical-align: top;\n",
       "    }\n",
       "\n",
       "    .dataframe thead th {\n",
       "        text-align: right;\n",
       "    }\n",
       "</style>\n",
       "<table border=\"1\" class=\"dataframe\">\n",
       "  <thead>\n",
       "    <tr style=\"text-align: right;\">\n",
       "      <th></th>\n",
       "      <th>Team</th>\n",
       "      <th>Group</th>\n",
       "      <th>Squad Number</th>\n",
       "      <th>Position</th>\n",
       "      <th>Player</th>\n",
       "      <th>Date Of Birth</th>\n",
       "      <th>Age</th>\n",
       "      <th>Caps</th>\n",
       "      <th>Goals</th>\n",
       "      <th>Club</th>\n",
       "    </tr>\n",
       "  </thead>\n",
       "  <tbody>\n",
       "    <tr>\n",
       "      <th>0</th>\n",
       "      <td>Egypt</td>\n",
       "      <td>A</td>\n",
       "      <td>1</td>\n",
       "      <td>GK</td>\n",
       "      <td>Essam El-Hadary (captain)</td>\n",
       "      <td>1973-01-15</td>\n",
       "      <td>45</td>\n",
       "      <td>157</td>\n",
       "      <td>0</td>\n",
       "      <td>Al-Taawoun</td>\n",
       "    </tr>\n",
       "  </tbody>\n",
       "</table>\n",
       "</div>"
      ],
      "text/plain": [
       "    Team Group  Squad Number Position                     Player  \\\n",
       "0  Egypt     A             1       GK  Essam El-Hadary (captain)   \n",
       "\n",
       "  Date Of Birth  Age  Caps  Goals        Club  \n",
       "0    1973-01-15   45   157      0  Al-Taawoun  "
      ]
     },
     "execution_count": 19,
     "metadata": {},
     "output_type": "execute_result"
    }
   ],
   "source": [
    "df_players.head(1)"
   ]
  },
  {
   "cell_type": "code",
   "execution_count": 20,
   "metadata": {},
   "outputs": [
    {
     "data": {
      "text/html": [
       "<div>\n",
       "<style scoped>\n",
       "    .dataframe tbody tr th:only-of-type {\n",
       "        vertical-align: middle;\n",
       "    }\n",
       "\n",
       "    .dataframe tbody tr th {\n",
       "        vertical-align: top;\n",
       "    }\n",
       "\n",
       "    .dataframe thead th {\n",
       "        text-align: right;\n",
       "    }\n",
       "</style>\n",
       "<table border=\"1\" class=\"dataframe\">\n",
       "  <thead>\n",
       "    <tr style=\"text-align: right;\">\n",
       "      <th></th>\n",
       "      <th>sofifa_id</th>\n",
       "      <th>player_url</th>\n",
       "      <th>short_name</th>\n",
       "      <th>long_name</th>\n",
       "      <th>age</th>\n",
       "      <th>dob</th>\n",
       "      <th>height_cm</th>\n",
       "      <th>weight_kg</th>\n",
       "      <th>nationality</th>\n",
       "      <th>club_name</th>\n",
       "      <th>...</th>\n",
       "      <th>lwb</th>\n",
       "      <th>ldm</th>\n",
       "      <th>cdm</th>\n",
       "      <th>rdm</th>\n",
       "      <th>rwb</th>\n",
       "      <th>lb</th>\n",
       "      <th>lcb</th>\n",
       "      <th>cb</th>\n",
       "      <th>rcb</th>\n",
       "      <th>rb</th>\n",
       "    </tr>\n",
       "  </thead>\n",
       "  <tbody>\n",
       "    <tr>\n",
       "      <th>0</th>\n",
       "      <td>20801</td>\n",
       "      <td>https://sofifa.com/player/20801/c-ronaldo-dos-...</td>\n",
       "      <td>Cristiano Ronaldo</td>\n",
       "      <td>Cristiano Ronaldo dos Santos Aveiro</td>\n",
       "      <td>32</td>\n",
       "      <td>1985-02-05</td>\n",
       "      <td>185</td>\n",
       "      <td>80</td>\n",
       "      <td>Portugal</td>\n",
       "      <td>Real Madrid</td>\n",
       "      <td>...</td>\n",
       "      <td>66+4</td>\n",
       "      <td>62+4</td>\n",
       "      <td>62+4</td>\n",
       "      <td>62+4</td>\n",
       "      <td>66+4</td>\n",
       "      <td>61+4</td>\n",
       "      <td>53+4</td>\n",
       "      <td>53+4</td>\n",
       "      <td>53+4</td>\n",
       "      <td>61+4</td>\n",
       "    </tr>\n",
       "  </tbody>\n",
       "</table>\n",
       "<p>1 rows × 106 columns</p>\n",
       "</div>"
      ],
      "text/plain": [
       "   sofifa_id                                         player_url  \\\n",
       "0      20801  https://sofifa.com/player/20801/c-ronaldo-dos-...   \n",
       "\n",
       "          short_name                            long_name  age        dob  \\\n",
       "0  Cristiano Ronaldo  Cristiano Ronaldo dos Santos Aveiro   32 1985-02-05   \n",
       "\n",
       "   height_cm  weight_kg nationality    club_name  ...   lwb   ldm   cdm   rdm  \\\n",
       "0        185         80    Portugal  Real Madrid  ...  66+4  62+4  62+4  62+4   \n",
       "\n",
       "    rwb    lb   lcb    cb   rcb    rb  \n",
       "0  66+4  61+4  53+4  53+4  53+4  61+4  \n",
       "\n",
       "[1 rows x 106 columns]"
      ]
     },
     "execution_count": 20,
     "metadata": {},
     "output_type": "execute_result"
    }
   ],
   "source": [
    "df_attributes.head(1)"
   ]
  },
  {
   "cell_type": "code",
   "execution_count": 21,
   "metadata": {},
   "outputs": [],
   "source": [
    "df = pd.merge(df_players, df_attributes, left_on = ['Date Of Birth', 'Team'] ,right_on = ['dob', 'nationality'])"
   ]
  },
  {
   "cell_type": "code",
   "execution_count": 22,
   "metadata": {},
   "outputs": [
    {
     "data": {
      "text/html": [
       "<div>\n",
       "<style scoped>\n",
       "    .dataframe tbody tr th:only-of-type {\n",
       "        vertical-align: middle;\n",
       "    }\n",
       "\n",
       "    .dataframe tbody tr th {\n",
       "        vertical-align: top;\n",
       "    }\n",
       "\n",
       "    .dataframe thead th {\n",
       "        text-align: right;\n",
       "    }\n",
       "</style>\n",
       "<table border=\"1\" class=\"dataframe\">\n",
       "  <thead>\n",
       "    <tr style=\"text-align: right;\">\n",
       "      <th></th>\n",
       "      <th>Team</th>\n",
       "      <th>Group</th>\n",
       "      <th>Squad Number</th>\n",
       "      <th>Position</th>\n",
       "      <th>Player</th>\n",
       "      <th>Date Of Birth</th>\n",
       "      <th>Age</th>\n",
       "      <th>Caps</th>\n",
       "      <th>Goals</th>\n",
       "      <th>Club</th>\n",
       "      <th>...</th>\n",
       "      <th>lwb</th>\n",
       "      <th>ldm</th>\n",
       "      <th>cdm</th>\n",
       "      <th>rdm</th>\n",
       "      <th>rwb</th>\n",
       "      <th>lb</th>\n",
       "      <th>lcb</th>\n",
       "      <th>cb</th>\n",
       "      <th>rcb</th>\n",
       "      <th>rb</th>\n",
       "    </tr>\n",
       "  </thead>\n",
       "  <tbody>\n",
       "    <tr>\n",
       "      <th>0</th>\n",
       "      <td>Egypt</td>\n",
       "      <td>A</td>\n",
       "      <td>1</td>\n",
       "      <td>GK</td>\n",
       "      <td>Essam El-Hadary (captain)</td>\n",
       "      <td>1973-01-15</td>\n",
       "      <td>45</td>\n",
       "      <td>157</td>\n",
       "      <td>0</td>\n",
       "      <td>Al-Taawoun</td>\n",
       "      <td>...</td>\n",
       "      <td>25+1</td>\n",
       "      <td>24+1</td>\n",
       "      <td>24+1</td>\n",
       "      <td>24+1</td>\n",
       "      <td>25+1</td>\n",
       "      <td>25+1</td>\n",
       "      <td>27+1</td>\n",
       "      <td>27+1</td>\n",
       "      <td>27+1</td>\n",
       "      <td>25+1</td>\n",
       "    </tr>\n",
       "  </tbody>\n",
       "</table>\n",
       "<p>1 rows × 116 columns</p>\n",
       "</div>"
      ],
      "text/plain": [
       "    Team Group  Squad Number Position                     Player  \\\n",
       "0  Egypt     A             1       GK  Essam El-Hadary (captain)   \n",
       "\n",
       "  Date Of Birth  Age  Caps  Goals        Club  ...   lwb   ldm   cdm   rdm  \\\n",
       "0    1973-01-15   45   157      0  Al-Taawoun  ...  25+1  24+1  24+1  24+1   \n",
       "\n",
       "    rwb    lb   lcb    cb   rcb    rb  \n",
       "0  25+1  25+1  27+1  27+1  27+1  25+1  \n",
       "\n",
       "[1 rows x 116 columns]"
      ]
     },
     "execution_count": 22,
     "metadata": {},
     "output_type": "execute_result"
    }
   ],
   "source": [
    "df.head(1)"
   ]
  }
 ],
 "metadata": {
  "kernelspec": {
   "display_name": "Python 3.9.12 ('base')",
   "language": "python",
   "name": "python3"
  },
  "language_info": {
   "codemirror_mode": {
    "name": "ipython",
    "version": 3
   },
   "file_extension": ".py",
   "mimetype": "text/x-python",
   "name": "python",
   "nbconvert_exporter": "python",
   "pygments_lexer": "ipython3",
   "version": "3.9.12"
  },
  "orig_nbformat": 4,
  "vscode": {
   "interpreter": {
    "hash": "e0f7444518708b5f663c6f01fe78581cb769eb8dddebe88cfd33d8560c6e2ae8"
   }
  }
 },
 "nbformat": 4,
 "nbformat_minor": 2
}
